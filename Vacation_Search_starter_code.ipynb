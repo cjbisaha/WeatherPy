{
 "cells": [
  {
   "cell_type": "markdown",
   "source": [
    "## Deliverable 2. Create a Customer Travel Destinations Map."
   ],
   "metadata": {}
  },
  {
   "cell_type": "code",
   "execution_count": 1,
   "source": [
    "# Dependencies and Setup\r\n",
    "import pandas as pd\r\n",
    "import requests\r\n",
    "import gmaps\r\n",
    "\r\n",
    "# Import API key\r\n",
    "from config import g_key\r\n",
    "\r\n",
    "# Configure gmaps API key\r\n",
    "gmaps.configure(api_key=g_key)"
   ],
   "outputs": [
    {
     "output_type": "error",
     "ename": "ModuleNotFoundError",
     "evalue": "No module named 'gmaps'",
     "traceback": [
      "\u001b[1;31m---------------------------------------------------------------------------\u001b[0m",
      "\u001b[1;31mModuleNotFoundError\u001b[0m                       Traceback (most recent call last)",
      "\u001b[1;32m<ipython-input-1-378c3efbb309>\u001b[0m in \u001b[0;36m<module>\u001b[1;34m\u001b[0m\n\u001b[0;32m      2\u001b[0m \u001b[1;32mimport\u001b[0m \u001b[0mpandas\u001b[0m \u001b[1;32mas\u001b[0m \u001b[0mpd\u001b[0m\u001b[1;33m\u001b[0m\u001b[1;33m\u001b[0m\u001b[0m\n\u001b[0;32m      3\u001b[0m \u001b[1;32mimport\u001b[0m \u001b[0mrequests\u001b[0m\u001b[1;33m\u001b[0m\u001b[1;33m\u001b[0m\u001b[0m\n\u001b[1;32m----> 4\u001b[1;33m \u001b[1;32mimport\u001b[0m \u001b[0mgmaps\u001b[0m\u001b[1;33m\u001b[0m\u001b[1;33m\u001b[0m\u001b[0m\n\u001b[0m\u001b[0;32m      5\u001b[0m \u001b[1;33m\u001b[0m\u001b[0m\n\u001b[0;32m      6\u001b[0m \u001b[1;31m# Import API key\u001b[0m\u001b[1;33m\u001b[0m\u001b[1;33m\u001b[0m\u001b[1;33m\u001b[0m\u001b[0m\n",
      "\u001b[1;31mModuleNotFoundError\u001b[0m: No module named 'gmaps'"
     ]
    }
   ],
   "metadata": {}
  },
  {
   "cell_type": "code",
   "execution_count": 2,
   "source": [
    "# 1. Import the WeatherPy_database.csv file. \r\n",
    "city_data_df = pd.read_csv(\"Weather_Database/WeatherPy_database.csv\")\r\n",
    "city_data_df.head()"
   ],
   "outputs": [],
   "metadata": {}
  },
  {
   "cell_type": "code",
   "execution_count": 3,
   "source": [
    "# 2. Prompt the user to enter minimum and maximum temperature criteria \r\n",
    "locations = city_data_df[[\"Lat\", \"Lng\"]]"
   ],
   "outputs": [],
   "metadata": {}
  },
  {
   "cell_type": "code",
   "execution_count": 4,
   "source": [
    "# 3. Filter the city_data_df DataFrame using the input statements to create a new DataFrame using the loc method.\r\n",
    "min_temp = float(input(\"What is the minimum temperature you would like for your trip? \"))\r\n",
    "max_temp = float(input(\"What is the maximum temperature you would like for your trip? \"))"
   ],
   "outputs": [],
   "metadata": {}
  },
  {
   "cell_type": "code",
   "execution_count": 5,
   "source": [
    "# 4a. Determine if there are any empty rows.\r\n",
    "preferred_cities_df.notnull().sum()"
   ],
   "outputs": [],
   "metadata": {}
  },
  {
   "cell_type": "code",
   "execution_count": 6,
   "source": [
    "# 4b. Drop any empty rows and create a new DataFrame that doesn’t have empty rows.\r\n",
    "preferred_cities_df.dropna()"
   ],
   "outputs": [],
   "metadata": {}
  },
  {
   "cell_type": "code",
   "execution_count": 7,
   "source": [
    "# 5a. Create DataFrame called hotel_df to store hotel names along with city, country, max temp, and coordinates.\r\n",
    "hotel_df = clean_df[[\"City\", \"Country\", \"Max Temp\", \"Current Description\", \"Lat\", \"Lng\"]].copy()\r\n",
    "\r\n",
    "# 5b. Create a new column \"Hotel Name\"\r\n",
    "hotel_df[\"Hotel Name\"] = \"\"\r\n",
    "hotel_df.head(10)"
   ],
   "outputs": [],
   "metadata": {}
  },
  {
   "cell_type": "code",
   "execution_count": 8,
   "source": [
    "# 6a. Set parameters to search for hotels with 5000 meters.\r\n",
    "params = {\r\n",
    "    \"radius\": 5000,\r\n",
    "    \"type\": \"lodging\",\r\n",
    "    \"key\": g_key\r\n",
    "}\r\n",
    "\r\n",
    "# 6b. Iterate through the hotel DataFrame.\r\n",
    "or index, row in hotel_df.iterrows():\r\n",
    "    # 6c. Get latitude and longitude from DataFrame\r\n",
    "lat = row[\"Lat\"]\r\n",
    "    lng = row[\"Lng\"]\r\n",
    "    \r\n",
    "    # 6d. Set up the base URL for the Google Directions API to get JSON data.\r\n",
    "    base_url = \"https://maps.googleapis.com/maps/api/place/nearbysearch/json\"\r\n",
    "\r\n",
    "    # 6e. Make request and retrieve the JSON data from the search. \r\n",
    "   hotels = requests.get(base_url, params=params).json()\r\n",
    "    \r\n",
    "    # 6f. Get the first hotel from the results and store the name, if a hotel isn't found skip the city.\r\n",
    "    try:\r\n",
    "        hotel_df.loc[index, \"Hotel Name\"] = hotels[\"results\"][0][\"name\"]\r\n",
    "    except (IndexError): print(\"Hotel not found... skipping.\")\r\n",
    "        "
   ],
   "outputs": [],
   "metadata": {}
  },
  {
   "cell_type": "code",
   "execution_count": 9,
   "source": [
    "# 7. Drop the rows where there is no Hotel Name.\r\n",
    "hotel_df.head()"
   ],
   "outputs": [],
   "metadata": {}
  },
  {
   "cell_type": "code",
   "execution_count": 10,
   "source": [
    "# 8a. Create the output File (CSV)\r\n",
    "output_data_file = \"Vacation_Search/WeatherPy_vacation.csv\"\r\n",
    "\r\n",
    "# 8b. Export the City_Data into a csv\r\n",
    "clean_hotel_df.to_csv(output_data_file, index_label=\"City_ID\")"
   ],
   "outputs": [],
   "metadata": {}
  },
  {
   "cell_type": "code",
   "execution_count": 11,
   "source": [
    "# 9. Using the template add city name, the country code, the weather description and maximum temperature for the city.\r\n",
    "info_box_template = \r\n",
    "\r\n",
    "<dl>\r\n",
    "<dt>Hotel Name</dt><dd>{Hotel Name}</dd>\r\n",
    "<dt>City</dt><dd>{City}</dd>\r\n",
    "<dt>Country</dt><dd>{Country}</dd>\r\n",
    "<dt>Current Description</dt><dd>{Current Description}</dd>\r\n",
    "<dt>Max Temp</dt><dd>{Max Temp} °F</dd>\r\n",
    "</dl>\r\n",
    "\r\n",
    "\r\n",
    "# 10a. Get the data from each row and add it to the formatting template and store the data in a list.\r\n",
    "hotel_info = [info_box_template.format(**row) for index, row in clean_hotel_df.iterrows()]\r\n",
    "\r\n",
    "# 10b. Get the latitude and longitude from each row and store in a new DataFrame.\r\n",
    "locations = clean_hotel_df[[\"Lat\", \"Lng\"]]"
   ],
   "outputs": [],
   "metadata": {}
  },
  {
   "cell_type": "code",
   "execution_count": 12,
   "source": [
    "# 11a. Add a marker layer for each city to the map. \r\n",
    "max_temp = hotel_df[\"Max Temp\"]\r\n",
    "fig = gmaps.figure(center=(30.0, 31.0), zoom_level=1.5)\r\n",
    "heat_layer = gmaps.heatmap_layer(locations, weights=max_temp,dissipating=False,\r\n",
    "             max_intensity=300, point_radius=4)\r\n",
    "marker_layer = gmaps.marker_layer(locations, info_box_content=hotel_info)\r\n",
    "fig.add_layer(heat_layer)\r\n",
    "fig.add_layer(marker_layer)\r\n",
    "# 11b. Display the figure\r\n",
    "fig"
   ],
   "outputs": [],
   "metadata": {}
  },
  {
   "cell_type": "code",
   "execution_count": null,
   "source": [],
   "outputs": [],
   "metadata": {}
  },
  {
   "cell_type": "code",
   "execution_count": null,
   "source": [],
   "outputs": [],
   "metadata": {}
  }
 ],
 "metadata": {
  "kernelspec": {
   "name": "python3",
   "display_name": "Python 3.7.10 64-bit ('PythonData': conda)"
  },
  "language_info": {
   "codemirror_mode": {
    "name": "ipython",
    "version": 3
   },
   "file_extension": ".py",
   "mimetype": "text/x-python",
   "name": "python",
   "nbconvert_exporter": "python",
   "pygments_lexer": "ipython3",
   "version": "3.7.10"
  },
  "latex_envs": {
   "LaTeX_envs_menu_present": true,
   "autoclose": false,
   "autocomplete": true,
   "bibliofile": "biblio.bib",
   "cite_by": "apalike",
   "current_citInitial": 1,
   "eqLabelWithNumbers": true,
   "eqNumInitial": 1,
   "hotkeys": {
    "equation": "Ctrl-E",
    "itemize": "Ctrl-I"
   },
   "labels_anchors": false,
   "latex_user_defs": false,
   "report_style_numbering": false,
   "user_envs_cfg": false
  },
  "interpreter": {
   "hash": "6f28855bc7991f2d6d95f0dc0f945399cfb49d5f5f3d29d6781f8fcc860a3cfd"
  }
 },
 "nbformat": 4,
 "nbformat_minor": 2
}